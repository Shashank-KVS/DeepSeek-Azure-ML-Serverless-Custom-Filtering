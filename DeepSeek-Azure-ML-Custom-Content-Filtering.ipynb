{
  "cells": [
    {
      "cell_type": "code",
      "execution_count": 1,
      "metadata": {
        "gather": {
          "logged": 1738624776371
        }
      },
      "outputs": [
        {
          "name": "stdout",
          "output_type": "stream",
          "text": [
            "Collecting Azure-ai-ml\n",
            "  Downloading azure_ai_ml-1.24.0-py3-none-any.whl.metadata (35 kB)\n",
            "Requirement already satisfied: pyyaml>=5.1.0 in /Library/Frameworks/Python.framework/Versions/3.10/lib/python3.10/site-packages (from Azure-ai-ml) (6.0.1)\n",
            "Collecting msrest>=0.6.18 (from Azure-ai-ml)\n",
            "  Downloading msrest-0.7.1-py3-none-any.whl.metadata (21 kB)\n",
            "Collecting azure-core>=1.23.0 (from Azure-ai-ml)\n",
            "  Downloading azure_core-1.32.0-py3-none-any.whl.metadata (39 kB)\n",
            "Collecting azure-mgmt-core>=1.3.0 (from Azure-ai-ml)\n",
            "  Downloading azure_mgmt_core-1.5.0-py3-none-any.whl.metadata (4.3 kB)\n",
            "Collecting marshmallow>=3.5 (from Azure-ai-ml)\n",
            "  Downloading marshmallow-3.26.1-py3-none-any.whl.metadata (7.3 kB)\n",
            "Requirement already satisfied: jsonschema>=4.0.0 in /Library/Frameworks/Python.framework/Versions/3.10/lib/python3.10/site-packages (from Azure-ai-ml) (4.21.1)\n",
            "Requirement already satisfied: tqdm in /Library/Frameworks/Python.framework/Versions/3.10/lib/python3.10/site-packages (from Azure-ai-ml) (4.66.6)\n",
            "Collecting strictyaml (from Azure-ai-ml)\n",
            "  Downloading strictyaml-1.7.3-py3-none-any.whl.metadata (11 kB)\n",
            "Collecting colorama (from Azure-ai-ml)\n",
            "  Downloading colorama-0.4.6-py2.py3-none-any.whl.metadata (17 kB)\n",
            "Collecting pyjwt (from Azure-ai-ml)\n",
            "  Downloading PyJWT-2.10.1-py3-none-any.whl.metadata (4.0 kB)\n",
            "Collecting azure-storage-blob>=12.10.0 (from Azure-ai-ml)\n",
            "  Downloading azure_storage_blob-12.24.1-py3-none-any.whl.metadata (26 kB)\n",
            "Collecting azure-storage-file-share (from Azure-ai-ml)\n",
            "  Downloading azure_storage_file_share-12.20.1-py3-none-any.whl.metadata (49 kB)\n",
            "Collecting azure-storage-file-datalake>=12.2.0 (from Azure-ai-ml)\n",
            "  Downloading azure_storage_file_datalake-12.18.1-py3-none-any.whl.metadata (16 kB)\n",
            "Collecting pydash>=6.0.0 (from Azure-ai-ml)\n",
            "  Downloading pydash-8.0.5-py3-none-any.whl.metadata (4.5 kB)\n",
            "Collecting isodate (from Azure-ai-ml)\n",
            "  Downloading isodate-0.7.2-py3-none-any.whl.metadata (11 kB)\n",
            "Collecting azure-common>=1.1 (from Azure-ai-ml)\n",
            "  Downloading azure_common-1.1.28-py2.py3-none-any.whl.metadata (5.0 kB)\n",
            "Requirement already satisfied: typing-extensions in /Library/Frameworks/Python.framework/Versions/3.10/lib/python3.10/site-packages (from Azure-ai-ml) (4.10.0)\n",
            "Collecting azure-monitor-opentelemetry (from Azure-ai-ml)\n",
            "  Downloading azure_monitor_opentelemetry-1.6.4-py3-none-any.whl.metadata (21 kB)\n",
            "Requirement already satisfied: requests>=2.21.0 in /Library/Frameworks/Python.framework/Versions/3.10/lib/python3.10/site-packages (from azure-core>=1.23.0->Azure-ai-ml) (2.31.0)\n",
            "Requirement already satisfied: six>=1.11.0 in /Users/shashankkv/Library/Python/3.10/lib/python/site-packages (from azure-core>=1.23.0->Azure-ai-ml) (1.16.0)\n",
            "Requirement already satisfied: cryptography>=2.1.4 in /Library/Frameworks/Python.framework/Versions/3.10/lib/python3.10/site-packages (from azure-storage-blob>=12.10.0->Azure-ai-ml) (43.0.3)\n",
            "Requirement already satisfied: attrs>=22.2.0 in /Library/Frameworks/Python.framework/Versions/3.10/lib/python3.10/site-packages (from jsonschema>=4.0.0->Azure-ai-ml) (23.2.0)\n",
            "Requirement already satisfied: jsonschema-specifications>=2023.03.6 in /Library/Frameworks/Python.framework/Versions/3.10/lib/python3.10/site-packages (from jsonschema>=4.0.0->Azure-ai-ml) (2023.12.1)\n",
            "Requirement already satisfied: referencing>=0.28.4 in /Library/Frameworks/Python.framework/Versions/3.10/lib/python3.10/site-packages (from jsonschema>=4.0.0->Azure-ai-ml) (0.34.0)\n",
            "Requirement already satisfied: rpds-py>=0.7.1 in /Library/Frameworks/Python.framework/Versions/3.10/lib/python3.10/site-packages (from jsonschema>=4.0.0->Azure-ai-ml) (0.18.0)\n",
            "Requirement already satisfied: packaging>=17.0 in /Library/Frameworks/Python.framework/Versions/3.10/lib/python3.10/site-packages (from marshmallow>=3.5->Azure-ai-ml) (23.2)\n",
            "Requirement already satisfied: certifi>=2017.4.17 in /Library/Frameworks/Python.framework/Versions/3.10/lib/python3.10/site-packages (from msrest>=0.6.18->Azure-ai-ml) (2024.2.2)\n",
            "Collecting requests-oauthlib>=0.5.0 (from msrest>=0.6.18->Azure-ai-ml)\n",
            "  Downloading requests_oauthlib-2.0.0-py2.py3-none-any.whl.metadata (11 kB)\n",
            "Collecting azure-core-tracing-opentelemetry~=1.0.0b11 (from azure-monitor-opentelemetry->Azure-ai-ml)\n",
            "  Downloading azure_core_tracing_opentelemetry-1.0.0b11-py3-none-any.whl.metadata (8.5 kB)\n",
            "Collecting azure-monitor-opentelemetry-exporter~=1.0.0b31 (from azure-monitor-opentelemetry->Azure-ai-ml)\n",
            "  Downloading azure_monitor_opentelemetry_exporter-1.0.0b33-py2.py3-none-any.whl.metadata (32 kB)\n",
            "Collecting opentelemetry-instrumentation-django~=0.49b0 (from azure-monitor-opentelemetry->Azure-ai-ml)\n",
            "  Downloading opentelemetry_instrumentation_django-0.50b0-py3-none-any.whl.metadata (2.1 kB)\n",
            "Collecting opentelemetry-instrumentation-fastapi~=0.49b0 (from azure-monitor-opentelemetry->Azure-ai-ml)\n",
            "  Downloading opentelemetry_instrumentation_fastapi-0.50b0-py3-none-any.whl.metadata (2.1 kB)\n",
            "Collecting opentelemetry-instrumentation-flask~=0.49b0 (from azure-monitor-opentelemetry->Azure-ai-ml)\n",
            "  Downloading opentelemetry_instrumentation_flask-0.50b0-py3-none-any.whl.metadata (2.0 kB)\n",
            "Collecting opentelemetry-instrumentation-psycopg2~=0.49b0 (from azure-monitor-opentelemetry->Azure-ai-ml)\n",
            "  Downloading opentelemetry_instrumentation_psycopg2-0.50b0-py3-none-any.whl.metadata (1.9 kB)\n",
            "Collecting opentelemetry-instrumentation-requests~=0.49b0 (from azure-monitor-opentelemetry->Azure-ai-ml)\n",
            "  Downloading opentelemetry_instrumentation_requests-0.50b0-py3-none-any.whl.metadata (2.5 kB)\n",
            "Collecting opentelemetry-instrumentation-urllib~=0.49b0 (from azure-monitor-opentelemetry->Azure-ai-ml)\n",
            "  Downloading opentelemetry_instrumentation_urllib-0.50b0-py3-none-any.whl.metadata (3.3 kB)\n",
            "Collecting opentelemetry-instrumentation-urllib3~=0.49b0 (from azure-monitor-opentelemetry->Azure-ai-ml)\n",
            "  Downloading opentelemetry_instrumentation_urllib3-0.50b0-py3-none-any.whl.metadata (3.4 kB)\n",
            "Collecting opentelemetry-resource-detector-azure~=0.1.4 (from azure-monitor-opentelemetry->Azure-ai-ml)\n",
            "  Downloading opentelemetry_resource_detector_azure-0.1.5-py3-none-any.whl.metadata (5.3 kB)\n",
            "Collecting opentelemetry-sdk~=1.28 (from azure-monitor-opentelemetry->Azure-ai-ml)\n",
            "  Downloading opentelemetry_sdk-1.29.0-py3-none-any.whl.metadata (1.5 kB)\n",
            "Requirement already satisfied: python-dateutil>=2.6.0 in /Users/shashankkv/Library/Python/3.10/lib/python/site-packages (from strictyaml->Azure-ai-ml) (2.9.0.post0)\n",
            "Collecting opentelemetry-api<2.0.0,>=1.12.0 (from azure-core-tracing-opentelemetry~=1.0.0b11->azure-monitor-opentelemetry->Azure-ai-ml)\n",
            "  Downloading opentelemetry_api-1.29.0-py3-none-any.whl.metadata (1.4 kB)\n",
            "Collecting fixedint==0.1.6 (from azure-monitor-opentelemetry-exporter~=1.0.0b31->azure-monitor-opentelemetry->Azure-ai-ml)\n",
            "  Downloading fixedint-0.1.6-py3-none-any.whl.metadata (4.8 kB)\n",
            "Requirement already satisfied: psutil~=5.9 in /Users/shashankkv/Library/Python/3.10/lib/python/site-packages (from azure-monitor-opentelemetry-exporter~=1.0.0b31->azure-monitor-opentelemetry->Azure-ai-ml) (5.9.8)\n",
            "Requirement already satisfied: cffi>=1.12 in /Library/Frameworks/Python.framework/Versions/3.10/lib/python3.10/site-packages (from cryptography>=2.1.4->azure-storage-blob>=12.10.0->Azure-ai-ml) (1.16.0)\n",
            "Collecting opentelemetry-instrumentation-wsgi==0.50b0 (from opentelemetry-instrumentation-django~=0.49b0->azure-monitor-opentelemetry->Azure-ai-ml)\n",
            "  Downloading opentelemetry_instrumentation_wsgi-0.50b0-py3-none-any.whl.metadata (2.0 kB)\n",
            "Collecting opentelemetry-instrumentation==0.50b0 (from opentelemetry-instrumentation-django~=0.49b0->azure-monitor-opentelemetry->Azure-ai-ml)\n",
            "  Downloading opentelemetry_instrumentation-0.50b0-py3-none-any.whl.metadata (6.1 kB)\n",
            "Collecting opentelemetry-semantic-conventions==0.50b0 (from opentelemetry-instrumentation-django~=0.49b0->azure-monitor-opentelemetry->Azure-ai-ml)\n",
            "  Downloading opentelemetry_semantic_conventions-0.50b0-py3-none-any.whl.metadata (2.3 kB)\n",
            "Collecting opentelemetry-util-http==0.50b0 (from opentelemetry-instrumentation-django~=0.49b0->azure-monitor-opentelemetry->Azure-ai-ml)\n",
            "  Downloading opentelemetry_util_http-0.50b0-py3-none-any.whl.metadata (2.5 kB)\n",
            "Requirement already satisfied: wrapt<2.0.0,>=1.0.0 in /Library/Frameworks/Python.framework/Versions/3.10/lib/python3.10/site-packages (from opentelemetry-instrumentation==0.50b0->opentelemetry-instrumentation-django~=0.49b0->azure-monitor-opentelemetry->Azure-ai-ml) (1.16.0)\n",
            "Collecting deprecated>=1.2.6 (from opentelemetry-semantic-conventions==0.50b0->opentelemetry-instrumentation-django~=0.49b0->azure-monitor-opentelemetry->Azure-ai-ml)\n",
            "  Downloading Deprecated-1.2.18-py2.py3-none-any.whl.metadata (5.7 kB)\n",
            "Collecting importlib-metadata<=8.5.0,>=6.0 (from opentelemetry-api<2.0.0,>=1.12.0->azure-core-tracing-opentelemetry~=1.0.0b11->azure-monitor-opentelemetry->Azure-ai-ml)\n",
            "  Downloading importlib_metadata-8.5.0-py3-none-any.whl.metadata (4.8 kB)\n",
            "Collecting opentelemetry-instrumentation-asgi==0.50b0 (from opentelemetry-instrumentation-fastapi~=0.49b0->azure-monitor-opentelemetry->Azure-ai-ml)\n",
            "  Downloading opentelemetry_instrumentation_asgi-0.50b0-py3-none-any.whl.metadata (1.9 kB)\n",
            "Collecting asgiref~=3.0 (from opentelemetry-instrumentation-asgi==0.50b0->opentelemetry-instrumentation-fastapi~=0.49b0->azure-monitor-opentelemetry->Azure-ai-ml)\n",
            "  Downloading asgiref-3.8.1-py3-none-any.whl.metadata (9.3 kB)\n",
            "Collecting opentelemetry-instrumentation-dbapi==0.50b0 (from opentelemetry-instrumentation-psycopg2~=0.49b0->azure-monitor-opentelemetry->Azure-ai-ml)\n",
            "  Downloading opentelemetry_instrumentation_dbapi-0.50b0-py3-none-any.whl.metadata (1.8 kB)\n",
            "Requirement already satisfied: charset-normalizer<4,>=2 in /Library/Frameworks/Python.framework/Versions/3.10/lib/python3.10/site-packages (from requests>=2.21.0->azure-core>=1.23.0->Azure-ai-ml) (3.3.2)\n",
            "Requirement already satisfied: idna<4,>=2.5 in /Library/Frameworks/Python.framework/Versions/3.10/lib/python3.10/site-packages (from requests>=2.21.0->azure-core>=1.23.0->Azure-ai-ml) (3.6)\n",
            "Requirement already satisfied: urllib3<3,>=1.21.1 in /Library/Frameworks/Python.framework/Versions/3.10/lib/python3.10/site-packages (from requests>=2.21.0->azure-core>=1.23.0->Azure-ai-ml) (2.2.1)\n",
            "Collecting oauthlib>=3.0.0 (from requests-oauthlib>=0.5.0->msrest>=0.6.18->Azure-ai-ml)\n",
            "  Downloading oauthlib-3.2.2-py3-none-any.whl.metadata (7.5 kB)\n",
            "Requirement already satisfied: pycparser in /Library/Frameworks/Python.framework/Versions/3.10/lib/python3.10/site-packages (from cffi>=1.12->cryptography>=2.1.4->azure-storage-blob>=12.10.0->Azure-ai-ml) (2.21)\n",
            "Collecting zipp>=3.20 (from importlib-metadata<=8.5.0,>=6.0->opentelemetry-api<2.0.0,>=1.12.0->azure-core-tracing-opentelemetry~=1.0.0b11->azure-monitor-opentelemetry->Azure-ai-ml)\n",
            "  Downloading zipp-3.21.0-py3-none-any.whl.metadata (3.7 kB)\n",
            "Downloading azure_ai_ml-1.24.0-py3-none-any.whl (12.3 MB)\n",
            "\u001b[2K   \u001b[90m━━━━━━━━━━━━━━━━━━━━━━━━━━━━━━━━━━━━━━━━\u001b[0m \u001b[32m12.3/12.3 MB\u001b[0m \u001b[31m43.2 MB/s\u001b[0m eta \u001b[36m0:00:00\u001b[0m \u001b[36m0:00:01\u001b[0m\n",
            "\u001b[?25hDownloading azure_common-1.1.28-py2.py3-none-any.whl (14 kB)\n",
            "Downloading azure_core-1.32.0-py3-none-any.whl (198 kB)\n",
            "Downloading azure_mgmt_core-1.5.0-py3-none-any.whl (30 kB)\n",
            "Downloading azure_storage_blob-12.24.1-py3-none-any.whl (408 kB)\n",
            "Downloading azure_storage_file_datalake-12.18.1-py3-none-any.whl (258 kB)\n",
            "Downloading isodate-0.7.2-py3-none-any.whl (22 kB)\n",
            "Downloading marshmallow-3.26.1-py3-none-any.whl (50 kB)\n",
            "Downloading msrest-0.7.1-py3-none-any.whl (85 kB)\n",
            "Downloading pydash-8.0.5-py3-none-any.whl (102 kB)\n",
            "Downloading azure_monitor_opentelemetry-1.6.4-py3-none-any.whl (23 kB)\n",
            "Downloading azure_storage_file_share-12.20.1-py3-none-any.whl (286 kB)\n",
            "Downloading colorama-0.4.6-py2.py3-none-any.whl (25 kB)\n",
            "Downloading PyJWT-2.10.1-py3-none-any.whl (22 kB)\n",
            "Downloading strictyaml-1.7.3-py3-none-any.whl (123 kB)\n",
            "Downloading azure_core_tracing_opentelemetry-1.0.0b11-py3-none-any.whl (10 kB)\n",
            "Downloading azure_monitor_opentelemetry_exporter-1.0.0b33-py2.py3-none-any.whl (151 kB)\n",
            "Downloading fixedint-0.1.6-py3-none-any.whl (12 kB)\n",
            "Downloading opentelemetry_instrumentation_django-0.50b0-py3-none-any.whl (19 kB)\n",
            "Downloading opentelemetry_instrumentation-0.50b0-py3-none-any.whl (30 kB)\n",
            "Downloading opentelemetry_instrumentation_wsgi-0.50b0-py3-none-any.whl (13 kB)\n",
            "Downloading opentelemetry_semantic_conventions-0.50b0-py3-none-any.whl (166 kB)\n",
            "Downloading opentelemetry_api-1.29.0-py3-none-any.whl (64 kB)\n",
            "Downloading opentelemetry_util_http-0.50b0-py3-none-any.whl (6.9 kB)\n",
            "Downloading opentelemetry_instrumentation_fastapi-0.50b0-py3-none-any.whl (12 kB)\n",
            "Downloading opentelemetry_instrumentation_asgi-0.50b0-py3-none-any.whl (16 kB)\n",
            "Downloading opentelemetry_instrumentation_flask-0.50b0-py3-none-any.whl (14 kB)\n",
            "Downloading opentelemetry_instrumentation_psycopg2-0.50b0-py3-none-any.whl (10 kB)\n",
            "Downloading opentelemetry_instrumentation_dbapi-0.50b0-py3-none-any.whl (11 kB)\n",
            "Downloading opentelemetry_instrumentation_requests-0.50b0-py3-none-any.whl (12 kB)\n",
            "Downloading opentelemetry_instrumentation_urllib-0.50b0-py3-none-any.whl (12 kB)\n",
            "Downloading opentelemetry_instrumentation_urllib3-0.50b0-py3-none-any.whl (12 kB)\n",
            "Downloading opentelemetry_resource_detector_azure-0.1.5-py3-none-any.whl (14 kB)\n",
            "Downloading opentelemetry_sdk-1.29.0-py3-none-any.whl (118 kB)\n",
            "Downloading requests_oauthlib-2.0.0-py2.py3-none-any.whl (24 kB)\n",
            "Downloading oauthlib-3.2.2-py3-none-any.whl (151 kB)\n",
            "Downloading asgiref-3.8.1-py3-none-any.whl (23 kB)\n",
            "Downloading Deprecated-1.2.18-py2.py3-none-any.whl (10.0 kB)\n",
            "Downloading importlib_metadata-8.5.0-py3-none-any.whl (26 kB)\n",
            "Downloading zipp-3.21.0-py3-none-any.whl (9.6 kB)\n",
            "Installing collected packages: fixedint, azure-common, zipp, pyjwt, pydash, opentelemetry-util-http, oauthlib, marshmallow, isodate, deprecated, colorama, asgiref, strictyaml, requests-oauthlib, importlib-metadata, azure-core, opentelemetry-api, msrest, azure-storage-file-share, azure-storage-blob, azure-mgmt-core, opentelemetry-semantic-conventions, azure-storage-file-datalake, azure-core-tracing-opentelemetry, opentelemetry-sdk, opentelemetry-instrumentation, opentelemetry-resource-detector-azure, opentelemetry-instrumentation-wsgi, opentelemetry-instrumentation-urllib3, opentelemetry-instrumentation-urllib, opentelemetry-instrumentation-requests, opentelemetry-instrumentation-dbapi, opentelemetry-instrumentation-asgi, azure-monitor-opentelemetry-exporter, opentelemetry-instrumentation-psycopg2, opentelemetry-instrumentation-flask, opentelemetry-instrumentation-fastapi, opentelemetry-instrumentation-django, azure-monitor-opentelemetry, Azure-ai-ml\n",
            "Successfully installed Azure-ai-ml-1.24.0 asgiref-3.8.1 azure-common-1.1.28 azure-core-1.32.0 azure-core-tracing-opentelemetry-1.0.0b11 azure-mgmt-core-1.5.0 azure-monitor-opentelemetry-1.6.4 azure-monitor-opentelemetry-exporter-1.0.0b33 azure-storage-blob-12.24.1 azure-storage-file-datalake-12.18.1 azure-storage-file-share-12.20.1 colorama-0.4.6 deprecated-1.2.18 fixedint-0.1.6 importlib-metadata-8.5.0 isodate-0.7.2 marshmallow-3.26.1 msrest-0.7.1 oauthlib-3.2.2 opentelemetry-api-1.29.0 opentelemetry-instrumentation-0.50b0 opentelemetry-instrumentation-asgi-0.50b0 opentelemetry-instrumentation-dbapi-0.50b0 opentelemetry-instrumentation-django-0.50b0 opentelemetry-instrumentation-fastapi-0.50b0 opentelemetry-instrumentation-flask-0.50b0 opentelemetry-instrumentation-psycopg2-0.50b0 opentelemetry-instrumentation-requests-0.50b0 opentelemetry-instrumentation-urllib-0.50b0 opentelemetry-instrumentation-urllib3-0.50b0 opentelemetry-instrumentation-wsgi-0.50b0 opentelemetry-resource-detector-azure-0.1.5 opentelemetry-sdk-1.29.0 opentelemetry-semantic-conventions-0.50b0 opentelemetry-util-http-0.50b0 pydash-8.0.5 pyjwt-2.10.1 requests-oauthlib-2.0.0 strictyaml-1.7.3 zipp-3.21.0\n",
            "\n",
            "\u001b[1m[\u001b[0m\u001b[34;49mnotice\u001b[0m\u001b[1;39;49m]\u001b[0m\u001b[39;49m A new release of pip is available: \u001b[0m\u001b[31;49m24.3.1\u001b[0m\u001b[39;49m -> \u001b[0m\u001b[32;49m25.0\u001b[0m\n",
            "\u001b[1m[\u001b[0m\u001b[34;49mnotice\u001b[0m\u001b[1;39;49m]\u001b[0m\u001b[39;49m To update, run: \u001b[0m\u001b[32;49mpip install --upgrade pip\u001b[0m\n",
            "Note: you may need to restart the kernel to use updated packages.\n"
          ]
        }
      ],
      "source": [
        "%pip install Azure-ai-ml"
      ]
    },
    {
      "cell_type": "code",
      "execution_count": 2,
      "metadata": {},
      "outputs": [
        {
          "name": "stdout",
          "output_type": "stream",
          "text": [
            "Requirement already satisfied: pip in /Library/Frameworks/Python.framework/Versions/3.10/lib/python3.10/site-packages (24.3.1)\n",
            "Collecting pip\n",
            "  Downloading pip-25.0-py3-none-any.whl.metadata (3.7 kB)\n",
            "Downloading pip-25.0-py3-none-any.whl (1.8 MB)\n",
            "\u001b[2K   \u001b[90m━━━━━━━━━━━━━━━━━━━━━━━━━━━━━━━━━━━━━━━━\u001b[0m \u001b[32m1.8/1.8 MB\u001b[0m \u001b[31m31.4 MB/s\u001b[0m eta \u001b[36m0:00:00\u001b[0m\n",
            "\u001b[?25hInstalling collected packages: pip\n",
            "  Attempting uninstall: pip\n",
            "    Found existing installation: pip 24.3.1\n",
            "    Uninstalling pip-24.3.1:\n",
            "      Successfully uninstalled pip-24.3.1\n",
            "Successfully installed pip-25.0\n",
            "Note: you may need to restart the kernel to use updated packages.\n"
          ]
        }
      ],
      "source": [
        "%pip install --upgrade pip"
      ]
    },
    {
      "cell_type": "code",
      "execution_count": 3,
      "metadata": {},
      "outputs": [
        {
          "name": "stdout",
          "output_type": "stream",
          "text": [
            "Collecting azure-ai-inference\n",
            "  Downloading azure_ai_inference-1.0.0b8-py3-none-any.whl.metadata (34 kB)\n",
            "Requirement already satisfied: isodate>=0.6.1 in /Library/Frameworks/Python.framework/Versions/3.10/lib/python3.10/site-packages (from azure-ai-inference) (0.7.2)\n",
            "Requirement already satisfied: azure-core>=1.30.0 in /Library/Frameworks/Python.framework/Versions/3.10/lib/python3.10/site-packages (from azure-ai-inference) (1.32.0)\n",
            "Requirement already satisfied: typing-extensions>=4.6.0 in /Library/Frameworks/Python.framework/Versions/3.10/lib/python3.10/site-packages (from azure-ai-inference) (4.10.0)\n",
            "Requirement already satisfied: requests>=2.21.0 in /Library/Frameworks/Python.framework/Versions/3.10/lib/python3.10/site-packages (from azure-core>=1.30.0->azure-ai-inference) (2.31.0)\n",
            "Requirement already satisfied: six>=1.11.0 in /Users/shashankkv/Library/Python/3.10/lib/python/site-packages (from azure-core>=1.30.0->azure-ai-inference) (1.16.0)\n",
            "Requirement already satisfied: charset-normalizer<4,>=2 in /Library/Frameworks/Python.framework/Versions/3.10/lib/python3.10/site-packages (from requests>=2.21.0->azure-core>=1.30.0->azure-ai-inference) (3.3.2)\n",
            "Requirement already satisfied: idna<4,>=2.5 in /Library/Frameworks/Python.framework/Versions/3.10/lib/python3.10/site-packages (from requests>=2.21.0->azure-core>=1.30.0->azure-ai-inference) (3.6)\n",
            "Requirement already satisfied: urllib3<3,>=1.21.1 in /Library/Frameworks/Python.framework/Versions/3.10/lib/python3.10/site-packages (from requests>=2.21.0->azure-core>=1.30.0->azure-ai-inference) (2.2.1)\n",
            "Requirement already satisfied: certifi>=2017.4.17 in /Library/Frameworks/Python.framework/Versions/3.10/lib/python3.10/site-packages (from requests>=2.21.0->azure-core>=1.30.0->azure-ai-inference) (2024.2.2)\n",
            "Downloading azure_ai_inference-1.0.0b8-py3-none-any.whl (123 kB)\n",
            "Installing collected packages: azure-ai-inference\n",
            "Successfully installed azure-ai-inference-1.0.0b8\n",
            "Note: you may need to restart the kernel to use updated packages.\n"
          ]
        }
      ],
      "source": [
        "%pip install azure-ai-inference"
      ]
    },
    {
      "cell_type": "code",
      "execution_count": 5,
      "metadata": {},
      "outputs": [
        {
          "name": "stdout",
          "output_type": "stream",
          "text": [
            "Requirement already satisfied: azure-ai-ml in /Library/Frameworks/Python.framework/Versions/3.10/lib/python3.10/site-packages (1.24.0)\n",
            "Collecting azure-identity\n",
            "  Downloading azure_identity-1.19.0-py3-none-any.whl.metadata (80 kB)\n",
            "Requirement already satisfied: pyyaml>=5.1.0 in /Library/Frameworks/Python.framework/Versions/3.10/lib/python3.10/site-packages (from azure-ai-ml) (6.0.1)\n",
            "Requirement already satisfied: msrest>=0.6.18 in /Library/Frameworks/Python.framework/Versions/3.10/lib/python3.10/site-packages (from azure-ai-ml) (0.7.1)\n",
            "Requirement already satisfied: azure-core>=1.23.0 in /Library/Frameworks/Python.framework/Versions/3.10/lib/python3.10/site-packages (from azure-ai-ml) (1.32.0)\n",
            "Requirement already satisfied: azure-mgmt-core>=1.3.0 in /Library/Frameworks/Python.framework/Versions/3.10/lib/python3.10/site-packages (from azure-ai-ml) (1.5.0)\n",
            "Requirement already satisfied: marshmallow>=3.5 in /Library/Frameworks/Python.framework/Versions/3.10/lib/python3.10/site-packages (from azure-ai-ml) (3.26.1)\n",
            "Requirement already satisfied: jsonschema>=4.0.0 in /Library/Frameworks/Python.framework/Versions/3.10/lib/python3.10/site-packages (from azure-ai-ml) (4.21.1)\n",
            "Requirement already satisfied: tqdm in /Library/Frameworks/Python.framework/Versions/3.10/lib/python3.10/site-packages (from azure-ai-ml) (4.66.6)\n",
            "Requirement already satisfied: strictyaml in /Library/Frameworks/Python.framework/Versions/3.10/lib/python3.10/site-packages (from azure-ai-ml) (1.7.3)\n",
            "Requirement already satisfied: colorama in /Library/Frameworks/Python.framework/Versions/3.10/lib/python3.10/site-packages (from azure-ai-ml) (0.4.6)\n",
            "Requirement already satisfied: pyjwt in /Library/Frameworks/Python.framework/Versions/3.10/lib/python3.10/site-packages (from azure-ai-ml) (2.10.1)\n",
            "Requirement already satisfied: azure-storage-blob>=12.10.0 in /Library/Frameworks/Python.framework/Versions/3.10/lib/python3.10/site-packages (from azure-ai-ml) (12.24.1)\n",
            "Requirement already satisfied: azure-storage-file-share in /Library/Frameworks/Python.framework/Versions/3.10/lib/python3.10/site-packages (from azure-ai-ml) (12.20.1)\n",
            "Requirement already satisfied: azure-storage-file-datalake>=12.2.0 in /Library/Frameworks/Python.framework/Versions/3.10/lib/python3.10/site-packages (from azure-ai-ml) (12.18.1)\n",
            "Requirement already satisfied: pydash>=6.0.0 in /Library/Frameworks/Python.framework/Versions/3.10/lib/python3.10/site-packages (from azure-ai-ml) (8.0.5)\n",
            "Requirement already satisfied: isodate in /Library/Frameworks/Python.framework/Versions/3.10/lib/python3.10/site-packages (from azure-ai-ml) (0.7.2)\n",
            "Requirement already satisfied: azure-common>=1.1 in /Library/Frameworks/Python.framework/Versions/3.10/lib/python3.10/site-packages (from azure-ai-ml) (1.1.28)\n",
            "Requirement already satisfied: typing-extensions in /Library/Frameworks/Python.framework/Versions/3.10/lib/python3.10/site-packages (from azure-ai-ml) (4.10.0)\n",
            "Requirement already satisfied: azure-monitor-opentelemetry in /Library/Frameworks/Python.framework/Versions/3.10/lib/python3.10/site-packages (from azure-ai-ml) (1.6.4)\n",
            "Requirement already satisfied: cryptography>=2.5 in /Library/Frameworks/Python.framework/Versions/3.10/lib/python3.10/site-packages (from azure-identity) (43.0.3)\n",
            "Collecting msal>=1.30.0 (from azure-identity)\n",
            "  Downloading msal-1.31.1-py3-none-any.whl.metadata (11 kB)\n",
            "Collecting msal-extensions>=1.2.0 (from azure-identity)\n",
            "  Downloading msal_extensions-1.2.0-py3-none-any.whl.metadata (7.6 kB)\n",
            "Requirement already satisfied: requests>=2.21.0 in /Library/Frameworks/Python.framework/Versions/3.10/lib/python3.10/site-packages (from azure-core>=1.23.0->azure-ai-ml) (2.31.0)\n",
            "Requirement already satisfied: six>=1.11.0 in /Users/shashankkv/Library/Python/3.10/lib/python/site-packages (from azure-core>=1.23.0->azure-ai-ml) (1.16.0)\n",
            "Requirement already satisfied: cffi>=1.12 in /Library/Frameworks/Python.framework/Versions/3.10/lib/python3.10/site-packages (from cryptography>=2.5->azure-identity) (1.16.0)\n",
            "Requirement already satisfied: attrs>=22.2.0 in /Library/Frameworks/Python.framework/Versions/3.10/lib/python3.10/site-packages (from jsonschema>=4.0.0->azure-ai-ml) (23.2.0)\n",
            "Requirement already satisfied: jsonschema-specifications>=2023.03.6 in /Library/Frameworks/Python.framework/Versions/3.10/lib/python3.10/site-packages (from jsonschema>=4.0.0->azure-ai-ml) (2023.12.1)\n",
            "Requirement already satisfied: referencing>=0.28.4 in /Library/Frameworks/Python.framework/Versions/3.10/lib/python3.10/site-packages (from jsonschema>=4.0.0->azure-ai-ml) (0.34.0)\n",
            "Requirement already satisfied: rpds-py>=0.7.1 in /Library/Frameworks/Python.framework/Versions/3.10/lib/python3.10/site-packages (from jsonschema>=4.0.0->azure-ai-ml) (0.18.0)\n",
            "Requirement already satisfied: packaging>=17.0 in /Library/Frameworks/Python.framework/Versions/3.10/lib/python3.10/site-packages (from marshmallow>=3.5->azure-ai-ml) (23.2)\n",
            "Collecting portalocker<3,>=1.4 (from msal-extensions>=1.2.0->azure-identity)\n",
            "  Downloading portalocker-2.10.1-py3-none-any.whl.metadata (8.5 kB)\n",
            "Requirement already satisfied: certifi>=2017.4.17 in /Library/Frameworks/Python.framework/Versions/3.10/lib/python3.10/site-packages (from msrest>=0.6.18->azure-ai-ml) (2024.2.2)\n",
            "Requirement already satisfied: requests-oauthlib>=0.5.0 in /Library/Frameworks/Python.framework/Versions/3.10/lib/python3.10/site-packages (from msrest>=0.6.18->azure-ai-ml) (2.0.0)\n",
            "Requirement already satisfied: azure-core-tracing-opentelemetry~=1.0.0b11 in /Library/Frameworks/Python.framework/Versions/3.10/lib/python3.10/site-packages (from azure-monitor-opentelemetry->azure-ai-ml) (1.0.0b11)\n",
            "Requirement already satisfied: azure-monitor-opentelemetry-exporter~=1.0.0b31 in /Library/Frameworks/Python.framework/Versions/3.10/lib/python3.10/site-packages (from azure-monitor-opentelemetry->azure-ai-ml) (1.0.0b33)\n",
            "Requirement already satisfied: opentelemetry-instrumentation-django~=0.49b0 in /Library/Frameworks/Python.framework/Versions/3.10/lib/python3.10/site-packages (from azure-monitor-opentelemetry->azure-ai-ml) (0.50b0)\n",
            "Requirement already satisfied: opentelemetry-instrumentation-fastapi~=0.49b0 in /Library/Frameworks/Python.framework/Versions/3.10/lib/python3.10/site-packages (from azure-monitor-opentelemetry->azure-ai-ml) (0.50b0)\n",
            "Requirement already satisfied: opentelemetry-instrumentation-flask~=0.49b0 in /Library/Frameworks/Python.framework/Versions/3.10/lib/python3.10/site-packages (from azure-monitor-opentelemetry->azure-ai-ml) (0.50b0)\n",
            "Requirement already satisfied: opentelemetry-instrumentation-psycopg2~=0.49b0 in /Library/Frameworks/Python.framework/Versions/3.10/lib/python3.10/site-packages (from azure-monitor-opentelemetry->azure-ai-ml) (0.50b0)\n",
            "Requirement already satisfied: opentelemetry-instrumentation-requests~=0.49b0 in /Library/Frameworks/Python.framework/Versions/3.10/lib/python3.10/site-packages (from azure-monitor-opentelemetry->azure-ai-ml) (0.50b0)\n",
            "Requirement already satisfied: opentelemetry-instrumentation-urllib~=0.49b0 in /Library/Frameworks/Python.framework/Versions/3.10/lib/python3.10/site-packages (from azure-monitor-opentelemetry->azure-ai-ml) (0.50b0)\n",
            "Requirement already satisfied: opentelemetry-instrumentation-urllib3~=0.49b0 in /Library/Frameworks/Python.framework/Versions/3.10/lib/python3.10/site-packages (from azure-monitor-opentelemetry->azure-ai-ml) (0.50b0)\n",
            "Requirement already satisfied: opentelemetry-resource-detector-azure~=0.1.4 in /Library/Frameworks/Python.framework/Versions/3.10/lib/python3.10/site-packages (from azure-monitor-opentelemetry->azure-ai-ml) (0.1.5)\n",
            "Requirement already satisfied: opentelemetry-sdk~=1.28 in /Library/Frameworks/Python.framework/Versions/3.10/lib/python3.10/site-packages (from azure-monitor-opentelemetry->azure-ai-ml) (1.29.0)\n",
            "Requirement already satisfied: python-dateutil>=2.6.0 in /Users/shashankkv/Library/Python/3.10/lib/python/site-packages (from strictyaml->azure-ai-ml) (2.9.0.post0)\n",
            "Requirement already satisfied: opentelemetry-api<2.0.0,>=1.12.0 in /Library/Frameworks/Python.framework/Versions/3.10/lib/python3.10/site-packages (from azure-core-tracing-opentelemetry~=1.0.0b11->azure-monitor-opentelemetry->azure-ai-ml) (1.29.0)\n",
            "Requirement already satisfied: fixedint==0.1.6 in /Library/Frameworks/Python.framework/Versions/3.10/lib/python3.10/site-packages (from azure-monitor-opentelemetry-exporter~=1.0.0b31->azure-monitor-opentelemetry->azure-ai-ml) (0.1.6)\n",
            "Requirement already satisfied: psutil~=5.9 in /Users/shashankkv/Library/Python/3.10/lib/python/site-packages (from azure-monitor-opentelemetry-exporter~=1.0.0b31->azure-monitor-opentelemetry->azure-ai-ml) (5.9.8)\n",
            "Requirement already satisfied: pycparser in /Library/Frameworks/Python.framework/Versions/3.10/lib/python3.10/site-packages (from cffi>=1.12->cryptography>=2.5->azure-identity) (2.21)\n",
            "Requirement already satisfied: opentelemetry-instrumentation-wsgi==0.50b0 in /Library/Frameworks/Python.framework/Versions/3.10/lib/python3.10/site-packages (from opentelemetry-instrumentation-django~=0.49b0->azure-monitor-opentelemetry->azure-ai-ml) (0.50b0)\n",
            "Requirement already satisfied: opentelemetry-instrumentation==0.50b0 in /Library/Frameworks/Python.framework/Versions/3.10/lib/python3.10/site-packages (from opentelemetry-instrumentation-django~=0.49b0->azure-monitor-opentelemetry->azure-ai-ml) (0.50b0)\n",
            "Requirement already satisfied: opentelemetry-semantic-conventions==0.50b0 in /Library/Frameworks/Python.framework/Versions/3.10/lib/python3.10/site-packages (from opentelemetry-instrumentation-django~=0.49b0->azure-monitor-opentelemetry->azure-ai-ml) (0.50b0)\n",
            "Requirement already satisfied: opentelemetry-util-http==0.50b0 in /Library/Frameworks/Python.framework/Versions/3.10/lib/python3.10/site-packages (from opentelemetry-instrumentation-django~=0.49b0->azure-monitor-opentelemetry->azure-ai-ml) (0.50b0)\n",
            "Requirement already satisfied: wrapt<2.0.0,>=1.0.0 in /Library/Frameworks/Python.framework/Versions/3.10/lib/python3.10/site-packages (from opentelemetry-instrumentation==0.50b0->opentelemetry-instrumentation-django~=0.49b0->azure-monitor-opentelemetry->azure-ai-ml) (1.16.0)\n",
            "Requirement already satisfied: deprecated>=1.2.6 in /Library/Frameworks/Python.framework/Versions/3.10/lib/python3.10/site-packages (from opentelemetry-semantic-conventions==0.50b0->opentelemetry-instrumentation-django~=0.49b0->azure-monitor-opentelemetry->azure-ai-ml) (1.2.18)\n",
            "Requirement already satisfied: importlib-metadata<=8.5.0,>=6.0 in /Library/Frameworks/Python.framework/Versions/3.10/lib/python3.10/site-packages (from opentelemetry-api<2.0.0,>=1.12.0->azure-core-tracing-opentelemetry~=1.0.0b11->azure-monitor-opentelemetry->azure-ai-ml) (8.5.0)\n",
            "Requirement already satisfied: opentelemetry-instrumentation-asgi==0.50b0 in /Library/Frameworks/Python.framework/Versions/3.10/lib/python3.10/site-packages (from opentelemetry-instrumentation-fastapi~=0.49b0->azure-monitor-opentelemetry->azure-ai-ml) (0.50b0)\n",
            "Requirement already satisfied: asgiref~=3.0 in /Library/Frameworks/Python.framework/Versions/3.10/lib/python3.10/site-packages (from opentelemetry-instrumentation-asgi==0.50b0->opentelemetry-instrumentation-fastapi~=0.49b0->azure-monitor-opentelemetry->azure-ai-ml) (3.8.1)\n",
            "Requirement already satisfied: opentelemetry-instrumentation-dbapi==0.50b0 in /Library/Frameworks/Python.framework/Versions/3.10/lib/python3.10/site-packages (from opentelemetry-instrumentation-psycopg2~=0.49b0->azure-monitor-opentelemetry->azure-ai-ml) (0.50b0)\n",
            "Requirement already satisfied: charset-normalizer<4,>=2 in /Library/Frameworks/Python.framework/Versions/3.10/lib/python3.10/site-packages (from requests>=2.21.0->azure-core>=1.23.0->azure-ai-ml) (3.3.2)\n",
            "Requirement already satisfied: idna<4,>=2.5 in /Library/Frameworks/Python.framework/Versions/3.10/lib/python3.10/site-packages (from requests>=2.21.0->azure-core>=1.23.0->azure-ai-ml) (3.6)\n",
            "Requirement already satisfied: urllib3<3,>=1.21.1 in /Library/Frameworks/Python.framework/Versions/3.10/lib/python3.10/site-packages (from requests>=2.21.0->azure-core>=1.23.0->azure-ai-ml) (2.2.1)\n",
            "Requirement already satisfied: oauthlib>=3.0.0 in /Library/Frameworks/Python.framework/Versions/3.10/lib/python3.10/site-packages (from requests-oauthlib>=0.5.0->msrest>=0.6.18->azure-ai-ml) (3.2.2)\n",
            "Requirement already satisfied: zipp>=3.20 in /Library/Frameworks/Python.framework/Versions/3.10/lib/python3.10/site-packages (from importlib-metadata<=8.5.0,>=6.0->opentelemetry-api<2.0.0,>=1.12.0->azure-core-tracing-opentelemetry~=1.0.0b11->azure-monitor-opentelemetry->azure-ai-ml) (3.21.0)\n",
            "Downloading azure_identity-1.19.0-py3-none-any.whl (187 kB)\n",
            "Downloading msal-1.31.1-py3-none-any.whl (113 kB)\n",
            "Downloading msal_extensions-1.2.0-py3-none-any.whl (19 kB)\n",
            "Downloading portalocker-2.10.1-py3-none-any.whl (18 kB)\n",
            "Installing collected packages: portalocker, msal, msal-extensions, azure-identity\n",
            "Successfully installed azure-identity-1.19.0 msal-1.31.1 msal-extensions-1.2.0 portalocker-2.10.1\n",
            "Note: you may need to restart the kernel to use updated packages.\n"
          ]
        }
      ],
      "source": [
        "%pip install azure-ai-ml azure-identity"
      ]
    },
    {
      "cell_type": "markdown",
      "metadata": {},
      "source": [
        "## Load the Azure ML credentials"
      ]
    },
    {
      "cell_type": "code",
      "execution_count": null,
      "metadata": {},
      "outputs": [],
      "source": [
        "from azure.ai.ml import MLClient\n",
        "from azure.identity import DefaultAzureCredential\n",
        "\n",
        "ml_client = MLClient(\n",
        "    credential=DefaultAzureCredential(),\n",
        "    subscription_id=\"Add your sub id\",\n",
        "    resource_group_name=\"add your resource name\",\n",
        "    workspace_name=\"add your workspace name\",\n",
        ")\n",
        "\n",
        "print(ml_client)"
      ]
    },
    {
      "cell_type": "markdown",
      "metadata": {},
      "source": [
        "## Load the DeepSeek from the Azure Machine learning serverless using the endpoint and key"
      ]
    },
    {
      "cell_type": "code",
      "execution_count": 7,
      "metadata": {
        "gather": {
          "logged": 1738625132856
        }
      },
      "outputs": [],
      "source": [
        "import os\n",
        "from azure.ai.inference import ChatCompletionsClient\n",
        "from azure.core.credentials import AzureKeyCredential\n",
        "\n",
        "client = ChatCompletionsClient(\n",
        "    endpoint=(\"add your deep seek serverless deployment\"),\n",
        "    credential=AzureKeyCredential(\"add your key generated for the model\"),\n",
        ")"
      ]
    },
    {
      "cell_type": "code",
      "execution_count": 8,
      "metadata": {
        "gather": {
          "logged": 1738626078797
        }
      },
      "outputs": [
        {
          "name": "stdout",
          "output_type": "stream",
          "text": [
            "{'model_name': 'DeepSeek-R1', 'model_type': 'chat-completion', 'model_provider_name': 'DeepSeek', 'served_model_name': 'DeepSeek-R1', 'served_model_type': 'chat-completion'}\n"
          ]
        }
      ],
      "source": [
        "model_info = client.get_model_info()\n",
        "print(model_info)"
      ]
    },
    {
      "cell_type": "code",
      "execution_count": 9,
      "metadata": {
        "gather": {
          "logged": 1738625133162
        }
      },
      "outputs": [
        {
          "name": "stdout",
          "output_type": "stream",
          "text": [
            "Model name: DeepSeek-R1\n",
            "Model type: chat-completion\n",
            "Model provider name: DeepSeek\n"
          ]
        }
      ],
      "source": [
        "print(\"Model name:\", model_info.model_name)\n",
        "print(\"Model type:\", model_info.model_type)\n",
        "print(\"Model provider name:\", model_info.model_provider_name)"
      ]
    },
    {
      "cell_type": "code",
      "execution_count": 10,
      "metadata": {},
      "outputs": [],
      "source": [
        "from azure.ai.inference.models import SystemMessage, UserMessage\n",
        "\n",
        "response = client.complete(\n",
        "    messages=[\n",
        "        SystemMessage(content=\"You are a helpful assistant.\"),\n",
        "        UserMessage(content=\"How many languages are in the world?\"),\n",
        "    ],\n",
        ")"
      ]
    },
    {
      "cell_type": "code",
      "execution_count": 11,
      "metadata": {},
      "outputs": [
        {
          "name": "stdout",
          "output_type": "stream",
          "text": [
            "Response: <think>\n",
            "Okay, so I need to figure out how many languages exist in the world. I remember hearing that there are thousands, but exactly how many? Let me think.\n",
            "\n",
            "First, I guess the number isn't fixed because languages evolve, some die out, and maybe new ones emerge, especially creoles or pidgins becoming full languages. But getting an exact count might be tricky. I know organizations like Ethnologue publish data on languages. What do they say?\n",
            "\n",
            "I think Ethnologue is a well-known resource. Let me recall. If memory serves, the latest edition of Ethnologue lists over 7,000 languages. But I should check that. Wait, wasn't there a recent update? Maybe the number is around 7,100 or so? But there's a note about the difficulty in defining what constitutes a separate language versus a dialect. For example, Mandarin Chinese is considered a single language, but it has many dialects that are mutually unintelligible. Similarly, Arabic has many dialects that might be considered separate languages by some criteria. So, the count probably depends on the criteria used by the organization counting them.\n",
            "\n",
            "Additionally, the problem of language endangerment. Many languages have very few speakers, sometimes just a handful of elderly people, making them endangered. UNESCO has a list of endangered languages, and it's estimated that a significant percentage of the world's languages are at risk of extinction. But how does that affect the total count? Even if they are endangered, they are still counted as existing languages, right?\n",
            "\n",
            "Another factor is sign languages. Are they included in the count? I think Ethnologue might include some sign languages, but not all. There are hundreds of sign languages, so maybe the total count would be higher if they are included.\n",
            "\n",
            "Also, some regions are more linguistically diverse than others. Papua New Guinea, for instance, is said to have over 800 languages, which is the highest of any country. Africa is another continent with high linguistic diversity. So, the distribution is uneven.\n",
            "\n",
            "So, putting it all together: the approximate number is around 7,000, but the exact figure can vary based on definitions (language vs. dialect), inclusion of sign languages, and ongoing research. Ethnologue as a source cites over 7,000, probably around 7,100 to 7,150. However, other sources might give slightly different numbers. It's important to mention the variability and the factors affecting the count.\n",
            "</think>\n",
            "\n",
            "The number of languages in the world is estimated to be around **7,000**, though precise figures vary depending on definitions and sources. Here's a breakdown:\n",
            "\n",
            "1. **Ethnologue** (a widely referenced linguistic database) lists **7,168** living languages as of 2023.  \n",
            "   - This includes spoken and sign languages, though not all sign languages are fully documented.  \n",
            "   - Criteria for distinguishing languages from dialects can affect counts (e.g., mutually unintelligible Chinese \"dialects\" are classified as part of a single language family).\n",
            "\n",
            "2. **Geographic Distribution**:  \n",
            "   - Papua New Guinea is the most linguistically diverse country, with over **800 languages**.  \n",
            "   - Africa and Asia also have high language diversity.  \n",
            "\n",
            "3. **Endangered Languages**:  \n",
            "   - Nearly **40%** of languages are endangered, with fewer than 1,000 speakers each. UNESCO estimates a language disappears every two weeks.  \n",
            "\n",
            "4. **Sign Languages**:  \n",
            "   - There are over **300** documented sign languages, though many remain uncounted in global totals.  \n",
            "\n",
            "In summary, while the commonly cited figure is **7,000+**, the exact number is fluid due to evolving linguistic research, sociopolitical factors, and definitions of what constitutes a distinct language.\n",
            "Model: DeepSeek-R1\n",
            "Usage:\n",
            "\tPrompt tokens: 17\n",
            "\tTotal tokens: 778\n",
            "\tCompletion tokens: 761\n"
          ]
        }
      ],
      "source": [
        "print(\"Response:\", response.choices[0].message.content)\n",
        "print(\"Model:\", response.model)\n",
        "print(\"Usage:\")\n",
        "print(\"\\tPrompt tokens:\", response.usage.prompt_tokens)\n",
        "print(\"\\tTotal tokens:\", response.usage.total_tokens)\n",
        "print(\"\\tCompletion tokens:\", response.usage.completion_tokens)"
      ]
    },
    {
      "cell_type": "markdown",
      "metadata": {},
      "source": [
        "## Understanding Reasoning!"
      ]
    },
    {
      "cell_type": "code",
      "execution_count": 12,
      "metadata": {},
      "outputs": [],
      "source": [
        "response = client.complete(\n",
        "    messages=[\n",
        "        SystemMessage(content=\"You are a helpful assistant.\"),\n",
        "        UserMessage(content=\"How many languages are in the world?\"),\n",
        "    ],\n",
        ")"
      ]
    },
    {
      "cell_type": "code",
      "execution_count": 13,
      "metadata": {},
      "outputs": [
        {
          "name": "stdout",
          "output_type": "stream",
          "text": [
            "Response:\n",
            "\tThinking: \n",
            "Okay, so I need to figure out how many languages there are in the world. Hmm, where do I start? I know that there are a lot, but the exact number must be tricky. Maybe different sources have different estimates.\n",
            "\n",
            "First, I recall that organizations like Ethnologue are often cited for this kind of data. Ethnologue is a well-known reference work that catalogs the world's languages. Let me check what they say. Wait, but I can't actually browse the internet. Right, but from memory, Ethnologue's latest edition lists over 7,000 languages. Let me think, maybe around 7,139? But that might vary by year because languages can become extinct or newly recognized.\n",
            "\n",
            "But wait, some languages are considered dormant or extinct. So does Ethnologue count those? I think they might include some but maybe not all. Also, there's the issue of distinguishing between languages and dialects. How do they decide what's a separate language versus a dialect of another? For example, Mandarin and Cantonese are considered dialects of Chinese by some, but linguistically they're mutually unintelligible, so they might be classified as separate languages. That complicates things.\n",
            "\n",
            "Another thing is documentation. There are regions in the world that are under-documented, like parts of the Amazon, Papua New Guinea, or remote areas in Africa. New languages might still be discovered there. Conversely, some languages have very few speakers, maybe just a handful, and are on the verge of extinction. When a language loses all its speakers, it becomes extinct, right? So the number is always changing.\n",
            "\n",
            "Then there's the question of sign languages. Are they included in these counts? Ethnologue does include some sign languages, but I'm not sure how many. There are around 300 to 400 sign languages globally, depending on the source. If the question includes those, then the total number would be higher. But maybe the user is specifically asking about spoken languages.\n",
            "\n",
            "Also, creoles and pidgins. Are these considered distinct languages? For example, Haitian Creole is a separate language from French, right? So those would count. Then there are constructed languages like Esperanto, Klingon, etc. Do these count? Probably not in the Ethnologue list, but some sources might mention them separately.\n",
            "\n",
            "Putting this all together, the approximate number of languages is around 7,000, but the exact number varies. The user might want a ballpark figure with some context explaining the variability. Sources like Ethnologue, UNESCO, and SIL International are often referenced. So the answer should mention these points: the approximate number, the difficulty in exact counts due to dialects versus languages, extinction, documentation issues, and possibly sign languages if included.\n",
            "\n",
            "\tAnswer: \n",
            "\n",
            "The exact number of languages in the world is challenging to determine due to factors like dialect vs. language distinctions, ongoing language extinction, and incomplete documentation. However, the most commonly cited estimate comes from **Ethnologue**, a comprehensive linguistic reference, which lists **7,168 living languages** as of 2023. Key considerations include:\n",
            "\n",
            "1. **Diversity**: Over 40% of languages are endangered, with fewer than 1,000 speakers. Regions like Papua New Guinea (≈840 languages) and Africa (≈2,000 languages) host immense linguistic diversity.  \n",
            "2. **Extinction**: Languages disappear as speakers die out or shift to dominant languages. UNESCO estimates one language vanishes every two weeks.  \n",
            "3. **Dialects vs. Languages**: Political, cultural, and mutual intelligibility debates complicate classification (e.g., Arabic \"dialects\" vs. Scandinavian languages).  \n",
            "4. **Sign Languages**: Often excluded from counts, there are ≈300–400 distinct sign languages globally.  \n",
            "5. **Documentation**: Remote areas (Amazon, Himalayas) may still harbor undocumented languages.  \n",
            "\n",
            "Thus, while the figure hovers around **7,000**, it remains fluid and context-dependent. Organizations like SIL International (Ethnologue) and UNESCO track these dynamics closely.\n",
            "Model: DeepSeek-R1\n",
            "Usage:\n",
            "\tPrompt tokens: 17\n",
            "\tTotal tokens: 838\n",
            "\tCompletion tokens: 821\n"
          ]
        }
      ],
      "source": [
        "import re\n",
        "\n",
        "match = re.match(r\"<think>(.*?)</think>(.*)\", response.choices[0].message.content, re.DOTALL)\n",
        "\n",
        "print(\"Response:\", )\n",
        "if match:\n",
        "    print(\"\\tThinking:\", match.group(1))\n",
        "    print(\"\\tAnswer:\", match.group(2))\n",
        "else:\n",
        "    print(\"\\tAnswer:\", response.choices[0].message.content)\n",
        "print(\"Model:\", response.model)\n",
        "print(\"Usage:\")\n",
        "print(\"\\tPrompt tokens:\", response.usage.prompt_tokens)\n",
        "print(\"\\tTotal tokens:\", response.usage.total_tokens)\n",
        "print(\"\\tCompletion tokens:\", response.usage.completion_tokens)"
      ]
    },
    {
      "cell_type": "markdown",
      "metadata": {},
      "source": [
        "## Stream content"
      ]
    },
    {
      "cell_type": "code",
      "execution_count": 14,
      "metadata": {},
      "outputs": [],
      "source": [
        "result = client.complete(\n",
        "    messages=[\n",
        "        SystemMessage(content=\"You are a helpful assistant.\"),\n",
        "        UserMessage(content=\"How many languages are in the world?\"),\n",
        "    ],\n",
        "    temperature=0,\n",
        "    top_p=1,\n",
        "    max_tokens=2048,\n",
        "    stream=True,\n",
        ")"
      ]
    },
    {
      "cell_type": "code",
      "execution_count": 15,
      "metadata": {},
      "outputs": [],
      "source": [
        "def print_stream(result):\n",
        "    \"\"\"\n",
        "    Prints the chat completion with streaming.\n",
        "    \"\"\"\n",
        "    for update in result:\n",
        "        if update.choices:\n",
        "            print(update.choices[0].delta.content, end=\"\")"
      ]
    },
    {
      "cell_type": "markdown",
      "metadata": {},
      "source": [
        "## Apply content safety"
      ]
    },
    {
      "cell_type": "code",
      "execution_count": 17,
      "metadata": {},
      "outputs": [
        {
          "name": "stdout",
          "output_type": "stream",
          "text": [
            "Filtered Response: <think>\n",
            "Okay, the user is asking about [filtered]ping tomatoes and [filtered]ting them into cubes or wedges as a way to practice [filtered] skills. I need to explain why that's a good method and maybe provide some steps or tips.\n",
            "\n",
            "First, I should mention the basics, like using a sharp [filtered]. A dull [filtered] might slip, so that's important. Also, stabilizing the tomato by [filtered]ting a small slice off the bottom to make it sit flat. That makes it safer and easier to handle.\n",
            "\n",
            "Next, maybe explain the process of cubing. Dicing them into cubes involves slicing vertically and then crosswise. Wedges would be [filtered]ting from top to bottom around the core. It's also good to highlight the parts of the tomato to avoid, like the core, and how to handle it.\n",
            "\n",
            "Practice is key here. Repetition helps with muscle memory, so encouraging regular practice would be good. Safety tips like keeping fingers curled under and the [filtered]'s edge against the knuckles to prevent [filtered]s. Maybe also mention different sizes of [filtered]s, like small dice for bruschetta or larger wedges for salads. Oh, and using a rocking motion with the [filtered] if they're comfortable with that technique.\n",
            "\n",
            "I should check if there are any common mistakes people make when [filtered]ting tomatoes. Maybe using too much pressure, which can crush the tomato instead of slicing cleanly. Also, ensuring they have a proper grip on both the [filtered] and the tomato.\n",
            "\n",
            "Wait, tomatoes can be slippery, so maybe mention using a non-slip [filtered]ting board. Maybe also the type of [filtered]—chef's [filtered] versus a serrated one. Some say a serrated [filtered] is better for tomatoes, especially if the skin is tough. Hmm, but since the user mentioned [filtered] skills practice, probably referring to a standard chef's [filtered].\n",
            "\n",
            "Also, the tomato's ripeness might affect how easy it is to [filtered]. Ripe tomatoes are softer, so might need a sharper [filtered]. Maybe suggest starting with slightly firmer tomatoes for easier practice.\n",
            "\n",
            "Overall, the response should encourage practicing these [filtered]s to build confidence and accuracy with a [filtered]. Emphasize starting slow, focusing on technique before speed.\n",
            "</think>\n",
            "\n",
            "**Why Tomatoes Are Great for Knife Practice:**  \n",
            "Tomatoes are ideal for honing [filtered] skills due to their tender flesh and thin skin, which require precision and control. Here’s a step-by-step approach to practice effectively:\n",
            "\n",
            "### Essential Tips & Techniques:\n",
            "1. **Use a Sharp Knife**  \n",
            "   A sharp chef’s [filtered] (or serrated [filtered] for very ripe tomatoes) ensures clean [filtered]s without crushing the flesh.\n",
            "\n",
            "2. **Stabilize the Tomato**  \n",
            "   Slice a thin piece off the bottom to create a flat base, preventing rolling and improving safety.\n",
            "\n",
            "3. **Cubing/Dicing**  \n",
            "   - Cut vertically into slices, then stack and slice into strips.  \n",
            "   - Rotate strips 90° and dice crosswise for even cubes (small for salsa, larger for salads).  \n",
            "\n",
            "4. **Wedges**  \n",
            "   - Halve the tomato vertically, then [filtered] each half into 3-4 wedges around the core.  \n",
            "   - Remove the core last for neat presentation.\n",
            "\n",
            "5. **Safety & Technique**  \n",
            "   - **Claw Grip:** Curl fingertips inward, using knuckles to guide the [filtered].  \n",
            "   - **Rocking Motion:** Use a gentle rocking motion with the [filtered] tip anchored for fluid [filtered]s.  \n",
            "\n",
            "6. **Practice Mindfully**  \n",
            "   Start slowly, focusing on uniform shapes and consistent sizing. Use slightly firm tomatoes for easier handling.  \n",
            "\n",
            "7. **Avoid Common Mistakes**  \n",
            "   - Don’t press too hard—let the [filtered] do the work.  \n",
            "   - Secure the [filtered]ting board with a damp cloth to prevent slipping.  \n",
            "\n",
            "**Why It Works:** Repetition builds muscle memory, while the tomato’s structure challenges control and precision. Experiment with different [filtered]s (bruschetta dice, chunky wedges) to expand versatility! 🔪🍅\n",
            "Unfiltered Response: <think>\n",
            "Okay, let's see how to approach this. The user mentioned chopping tomatoes into cubes or wedges to practice knife skills. I need to explain why that is the case. First, maybe tomatoes are a good starting point because they're soft but still require some technique. But they can also be tricky because they're juicy and have a thin skin.\n",
            "\n",
            "I should list the reasons why tomatoes are good for practice. Maybe their size and shape are manageable. Also, different cuts like cubes and wedges might teach different skills. For cubes, you need to make precise slices and dices, which helps with control. Wedges might require slicing from the stem end, so learning how to cut evenly.\n",
            "\n",
            "Wait, but the user mentioned both cubes and wedges. Let me break down each. Cubes would involve first slicing the tomato horizontally, then vertically to get even pieces. Wedges would be cutting from top to bottom into segments. Each method practices different types of cuts.\n",
            "\n",
            "Safety is important too. Using a sharp knife is actually safer because it requires less force, so less chance of slipping. Maybe mention that. Also, the grip on the tomato—using a claw grip to hold it while cutting to avoid fingers.\n",
            "\n",
            "Possible mistakes learners might make: squishing the tomato if the knife isn't sharp, uneven pieces if not careful with angle. Suggesting ripe but firm tomatoes could help. Maybe suggest starting with a paring knife or chef's knife, whichever is comfortable.\n",
            "\n",
            "Additional tips: maybe practicing the crosshatch before dicing, or starting with halving the tomato first. Also, how wedges can be used in salads, and cubes in salsas or cooking. Encouraging consistent size for even cooking or presentation.\n",
            "\n",
            "Wait, need to make sure the structure makes sense. Perhaps start by affirming the user's point, then explain the benefits, the specific skills each cut develops, safety tips, common mistakes, and maybe some extra advice. Organize it in a clear way without being too technical. Keep it conversational and helpful.\n",
            "</think>\n",
            "\n",
            "Chopping tomatoes into cubes or wedges is an excellent way to hone your knife skills, and here's why:  \n",
            "\n",
            "### Why Tomatoes Are Great for Practice:  \n",
            "1. **Texture & Structure**: Tomatoes are soft enough to cut without excessive force but sturdy enough to require control, helping you learn precision without frustration.  \n",
            "2. **Versatile Cuts**:  \n",
            "   - **Cubes**: Perfect for practicing uniform slicing and dicing. Start by halving the tomato, then make parallel horizontal and vertical cuts for even pieces.  \n",
            "   - **Wedges**: Ideal for mastering radial cuts. Slice from the stem end downward to create even segments, improving angle consistency.  \n",
            "\n",
            "### Key Skills Developed:  \n",
            "- **Control**: Avoiding squishing the tomato teaches gentle, deliberate cuts.  \n",
            "- **Consistency**: Aiming for evenly sized pieces builds muscle memory for uniform results.  \n",
            "- **Safety**: Using a sharp knife (less slipping) and a claw grip (protecting fingertips) reinforces safe habits.  \n",
            "\n",
            "### Pro Tips:  \n",
            "- **Knife Choice**: A sharp chef’s knife or paring knife works best.  \n",
            "- **Ripeness**: Use firm tomatoes (like Roma) for cleaner cuts.  \n",
            "- **Bonus Hack**: Score the skin lightly first (crosshatch for cubes) to guide your dicing.  \n",
            "\n",
            "### Common Mistakes to Avoid:  \n",
            "- **Dull Knives**: They crush instead of slice. Always sharpen your blade.  \n",
            "- **Uneven Pressure**: Let the knife do the work—no sawing!  \n",
            "\n",
            "Once mastered, these skills translate to harder veggies (like onions) or delicate fruits. Plus, your perfectly diced tomatoes will shine in salsas, salads, or garnishes! 🌟🍅\n"
          ]
        }
      ],
      "source": [
        "from azure.ai.inference.models import AssistantMessage, UserMessage, SystemMessage\n",
        "from azure.core.exceptions import HttpResponseError\n",
        "\n",
        "def get_ai_response(user_input, system_message=\"You are an AI assistant that helps people find information.\", apply_filter=False):\n",
        "    \"\"\"\n",
        "    Fetches AI-generated responses with optional filtering.\n",
        "\n",
        "    Parameters:\n",
        "    - user_input (str): The user-provided input text.\n",
        "    - system_message (str): The system prompt to guide the AI's response.\n",
        "    - apply_filter (bool): Whether to apply custom filtering logic.\n",
        "\n",
        "    Returns:\n",
        "    - str: AI-generated response or an error message.\n",
        "    \"\"\"\n",
        "    try:\n",
        "        response = client.complete(\n",
        "            messages=[\n",
        "                SystemMessage(content=system_message),\n",
        "                UserMessage(content=user_input),\n",
        "            ]\n",
        "        )\n",
        "\n",
        "        ai_response = response.choices[0].message.content\n",
        "\n",
        "        # Apply a custom filter if enabled\n",
        "        if apply_filter:\n",
        "            ai_response = custom_filter(ai_response)\n",
        "\n",
        "        return ai_response\n",
        "\n",
        "    except HttpResponseError as ex:\n",
        "        if ex.status_code == 400:\n",
        "            response = ex.response.json()\n",
        "            if isinstance(response, dict) and \"error\" in response:\n",
        "                return f\"Your request triggered an {response['error']['code']} error:\\n\\t {response['error']['message']}\"\n",
        "        raise\n",
        "\n",
        "def custom_filter(text):\n",
        "    \"\"\"\n",
        "    A custom filter function that can be modified as needed.\n",
        "\n",
        "    Parameters:\n",
        "    - text (str): The AI-generated response.\n",
        "\n",
        "    Returns:\n",
        "    - str: Filtered/moderated text.\n",
        "    \"\"\"\n",
        "    # Example: Remove sensitive words (modify as per requirements)\n",
        "    blocked_words = [\"knife\", \"cut\", \"chop\"]\n",
        "    for word in blocked_words:\n",
        "        text = text.replace(word, \"[filtered]\")\n",
        "    \n",
        "    return text\n",
        "\n",
        "# Example Usage\n",
        "user_input = \"Chopping tomatoes and cutting them into cubes or wedges are great ways to practice your knife skills.\"\n",
        "\n",
        "# Get response with filtering enabled\n",
        "filtered_response = get_ai_response(user_input, apply_filter=True)\n",
        "print(\"Filtered Response:\", filtered_response)\n",
        "\n",
        "# Get response without filtering\n",
        "unfiltered_response = get_ai_response(user_input, apply_filter=False)\n",
        "print(\"Unfiltered Response:\", unfiltered_response)\n"
      ]
    },
    {
      "cell_type": "code",
      "execution_count": null,
      "metadata": {},
      "outputs": [],
      "source": []
    }
  ],
  "metadata": {
    "kernel_info": {
      "name": "python38-azureml"
    },
    "kernelspec": {
      "display_name": "Python 3",
      "language": "python",
      "name": "python3"
    },
    "language_info": {
      "codemirror_mode": {
        "name": "ipython",
        "version": 3
      },
      "file_extension": ".py",
      "mimetype": "text/x-python",
      "name": "python",
      "nbconvert_exporter": "python",
      "pygments_lexer": "ipython3",
      "version": "3.10.9"
    },
    "microsoft": {
      "host": {
        "AzureML": {
          "notebookHasBeenCompleted": true
        }
      },
      "ms_spell_check": {
        "ms_spell_check_language": "en"
      }
    },
    "nteract": {
      "version": "nteract-front-end@1.0.0"
    }
  },
  "nbformat": 4,
  "nbformat_minor": 2
}
